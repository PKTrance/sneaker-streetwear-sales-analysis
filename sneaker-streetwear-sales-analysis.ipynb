{
 "cells": [
  {
   "cell_type": "markdown",
   "id": "4be16a1e-1b3a-4ffe-aa8b-7e34f3bcf491",
   "metadata": {},
   "source": [
    "# Sales Analytics: Global Sneaker & Streetwear Market"
   ]
  },
  {
   "cell_type": "markdown",
   "id": "93458c6e-14cc-4376-afe4-04a90ccfb539",
   "metadata": {},
   "source": [
    "## 1. Introduction\n",
    "\n",
    "This project explores global retail sales data from the sneaker and streetwear market, covering the period from January to August 2022.\n",
    "The dataset, sourced from Kaggle, simulates real-world e-commerce patterns for brands such as Nike, Adidas, Supreme, Yeezy, and Off-White, across high-demand categories like sneakers, hoodies, joggers, and graphic tees.\n",
    "\n",
    "The goal of this analysis is to identify:\n",
    "\n",
    "- Which products and product types sold the most\n",
    "\n",
    "- How sales changed over time\n",
    "\n",
    "- How sales compared across different countries\n",
    "\n",
    "- Which payment methods were most commonly used\n",
    "\n",
    "- Forecasted sales for the next month based on historical trends\n",
    "\n",
    "These insights can benefit retail strategists, marketing teams, and inventory managers by helping them understand consumer demand patterns, anticipate upcoming sales, and make informed business decisions."
   ]
  },
  {
   "cell_type": "markdown",
   "id": "cf56459d-5e6e-44ec-a916-c3cdb2d343f6",
   "metadata": {},
   "source": [
    "## 2. Data Overview\n",
    "\n",
    "The dataset includes 500 clean, non-null, and unique transaction records, allowing for direct exploration without additional data cleaning.\n",
    "It covers sales from several countries and over 30 product names, providing a diverse sample of the global streetwear market.\n",
    "\n",
    "Key fields include:\n",
    "\n",
    "- *Date* – date of the transaction\n",
    "\n",
    "- *Country* – country of purchase\n",
    "\n",
    "- *Gender* – customer gender\n",
    "\n",
    "- *Product* and *Category* – product details\n",
    "\n",
    "- *Quantity Sold* – number of units sold per transaction\n",
    "\n",
    "- *Unit Price* and total *Amount* – pricing and revenue details\n",
    "\n",
    "- *Payment Mode* – method used for payment\n",
    "\n",
    "The clean, structured nature of this dataset makes it well-suited for analyzing trends in product performance, regional sales distribution, and customer purchasing behavior."
   ]
  },
  {
   "cell_type": "markdown",
   "id": "f6979080-5f49-41e9-8c38-1cc2184039d7",
   "metadata": {},
   "source": [
    "## 3. Exploratory Data Analysis"
   ]
  },
  {
   "cell_type": "code",
   "execution_count": 2,
   "id": "2d9aa3f1-1819-4a0e-91b1-a167ab9b2349",
   "metadata": {
    "scrolled": true
   },
   "outputs": [
    {
     "data": {
      "text/html": [
       "<div>\n",
       "<style scoped>\n",
       "    .dataframe tbody tr th:only-of-type {\n",
       "        vertical-align: middle;\n",
       "    }\n",
       "\n",
       "    .dataframe tbody tr th {\n",
       "        vertical-align: top;\n",
       "    }\n",
       "\n",
       "    .dataframe thead th {\n",
       "        text-align: right;\n",
       "    }\n",
       "</style>\n",
       "<table border=\"1\" class=\"dataframe\">\n",
       "  <thead>\n",
       "    <tr style=\"text-align: right;\">\n",
       "      <th></th>\n",
       "      <th>Date</th>\n",
       "      <th>Product Name</th>\n",
       "      <th>Product Type</th>\n",
       "      <th>Brand</th>\n",
       "      <th>Gender</th>\n",
       "      <th>Category</th>\n",
       "      <th>Country</th>\n",
       "      <th>Quantity</th>\n",
       "      <th>Unit Price ($)</th>\n",
       "      <th>Amount ($)</th>\n",
       "      <th>Payment Mode</th>\n",
       "    </tr>\n",
       "  </thead>\n",
       "  <tbody>\n",
       "    <tr>\n",
       "      <th>0</th>\n",
       "      <td>2022-05-27</td>\n",
       "      <td>Fear of God Essentials Tee</td>\n",
       "      <td>T-shirt</td>\n",
       "      <td>Essentials</td>\n",
       "      <td>Unisex</td>\n",
       "      <td>Limited Edition</td>\n",
       "      <td>Japan</td>\n",
       "      <td>5</td>\n",
       "      <td>141.82</td>\n",
       "      <td>709.10</td>\n",
       "      <td>Card</td>\n",
       "    </tr>\n",
       "    <tr>\n",
       "      <th>1</th>\n",
       "      <td>2022-08-22</td>\n",
       "      <td>Yeezy Boost 350</td>\n",
       "      <td>Sneakers</td>\n",
       "      <td>Adidas</td>\n",
       "      <td>Unisex</td>\n",
       "      <td>Streetwear</td>\n",
       "      <td>USA</td>\n",
       "      <td>2</td>\n",
       "      <td>267.34</td>\n",
       "      <td>534.68</td>\n",
       "      <td>Cash on Delivery</td>\n",
       "    </tr>\n",
       "    <tr>\n",
       "      <th>2</th>\n",
       "      <td>2022-04-03</td>\n",
       "      <td>Nike Dunk Low</td>\n",
       "      <td>Sneakers</td>\n",
       "      <td>Nike</td>\n",
       "      <td>Women</td>\n",
       "      <td>Limited Edition</td>\n",
       "      <td>Germany</td>\n",
       "      <td>1</td>\n",
       "      <td>292.00</td>\n",
       "      <td>292.00</td>\n",
       "      <td>Cash on Delivery</td>\n",
       "    </tr>\n",
       "    <tr>\n",
       "      <th>3</th>\n",
       "      <td>2022-07-13</td>\n",
       "      <td>Nike Tech Fleece</td>\n",
       "      <td>Hoodie</td>\n",
       "      <td>Nike</td>\n",
       "      <td>Men</td>\n",
       "      <td>Limited Edition</td>\n",
       "      <td>USA</td>\n",
       "      <td>4</td>\n",
       "      <td>245.44</td>\n",
       "      <td>981.76</td>\n",
       "      <td>Cash on Delivery</td>\n",
       "    </tr>\n",
       "    <tr>\n",
       "      <th>4</th>\n",
       "      <td>2022-08-25</td>\n",
       "      <td>Jordan 1 High</td>\n",
       "      <td>Sneakers</td>\n",
       "      <td>Nike</td>\n",
       "      <td>Women</td>\n",
       "      <td>Casual</td>\n",
       "      <td>Australia</td>\n",
       "      <td>2</td>\n",
       "      <td>184.51</td>\n",
       "      <td>369.02</td>\n",
       "      <td>Cash on Delivery</td>\n",
       "    </tr>\n",
       "  </tbody>\n",
       "</table>\n",
       "</div>"
      ],
      "text/plain": [
       "         Date                Product Name Product Type       Brand  Gender  \\\n",
       "0  2022-05-27  Fear of God Essentials Tee      T-shirt  Essentials  Unisex   \n",
       "1  2022-08-22             Yeezy Boost 350     Sneakers      Adidas  Unisex   \n",
       "2  2022-04-03               Nike Dunk Low     Sneakers        Nike   Women   \n",
       "3  2022-07-13            Nike Tech Fleece       Hoodie        Nike     Men   \n",
       "4  2022-08-25               Jordan 1 High     Sneakers        Nike   Women   \n",
       "\n",
       "          Category    Country  Quantity  Unit Price ($)  Amount ($)  \\\n",
       "0  Limited Edition      Japan         5          141.82      709.10   \n",
       "1       Streetwear        USA         2          267.34      534.68   \n",
       "2  Limited Edition    Germany         1          292.00      292.00   \n",
       "3  Limited Edition        USA         4          245.44      981.76   \n",
       "4           Casual  Australia         2          184.51      369.02   \n",
       "\n",
       "       Payment Mode  \n",
       "0              Card  \n",
       "1  Cash on Delivery  \n",
       "2  Cash on Delivery  \n",
       "3  Cash on Delivery  \n",
       "4  Cash on Delivery  "
      ]
     },
     "execution_count": 2,
     "metadata": {},
     "output_type": "execute_result"
    }
   ],
   "source": [
    "import pandas as pd  # For data manipulation and analysis\n",
    "import seaborn as sns  # For creating static visualizations\n",
    "import matplotlib.pyplot as plt  # For plotting charts\n",
    "import plotly.express as px  # For interactive visualizations\n",
    "import warnings  # To manage warning messages\n",
    "\n",
    "# Suppress future and deprecation warnings for cleaner output\n",
    "warnings.simplefilter(action='ignore', category=(FutureWarning, DeprecationWarning, UserWarning))\n",
    "\n",
    "# Load the dataset into a pandas DataFrame\n",
    "df = pd.read_csv('sneakers_streetwear_sales_data.csv')\n",
    "\n",
    "# Display the first 5 rows to inspect the data structure and key columns\n",
    "df.head()"
   ]
  },
  {
   "cell_type": "markdown",
   "id": "a11d33bf-ea08-43af-a29a-d61111604686",
   "metadata": {},
   "source": [
    "### Which products brought in the highest sales?"
   ]
  },
  {
   "cell_type": "code",
   "execution_count": 3,
   "id": "f8fd3782-1fe2-4c19-b8e4-df39198f2366",
   "metadata": {},
   "outputs": [
    {
     "data": {
      "text/html": [
       "<div>\n",
       "<style scoped>\n",
       "    .dataframe tbody tr th:only-of-type {\n",
       "        vertical-align: middle;\n",
       "    }\n",
       "\n",
       "    .dataframe tbody tr th {\n",
       "        vertical-align: top;\n",
       "    }\n",
       "\n",
       "    .dataframe thead th {\n",
       "        text-align: right;\n",
       "    }\n",
       "</style>\n",
       "<table border=\"1\" class=\"dataframe\">\n",
       "  <thead>\n",
       "    <tr style=\"text-align: right;\">\n",
       "      <th></th>\n",
       "      <th>Product Name</th>\n",
       "      <th>Amount ($)</th>\n",
       "    </tr>\n",
       "  </thead>\n",
       "  <tbody>\n",
       "    <tr>\n",
       "      <th>6</th>\n",
       "      <td>Off-White Hoodie</td>\n",
       "      <td>24214.82</td>\n",
       "    </tr>\n",
       "    <tr>\n",
       "      <th>4</th>\n",
       "      <td>Nike Dunk Low</td>\n",
       "      <td>23634.39</td>\n",
       "    </tr>\n",
       "    <tr>\n",
       "      <th>5</th>\n",
       "      <td>Nike Tech Fleece</td>\n",
       "      <td>23247.12</td>\n",
       "    </tr>\n",
       "    <tr>\n",
       "      <th>9</th>\n",
       "      <td>Yeezy Boost 350</td>\n",
       "      <td>21658.65</td>\n",
       "    </tr>\n",
       "    <tr>\n",
       "      <th>7</th>\n",
       "      <td>Puma Joggers</td>\n",
       "      <td>21342.02</td>\n",
       "    </tr>\n",
       "  </tbody>\n",
       "</table>\n",
       "</div>"
      ],
      "text/plain": [
       "       Product Name  Amount ($)\n",
       "6  Off-White Hoodie    24214.82\n",
       "4     Nike Dunk Low    23634.39\n",
       "5  Nike Tech Fleece    23247.12\n",
       "9   Yeezy Boost 350    21658.65\n",
       "7      Puma Joggers    21342.02"
      ]
     },
     "execution_count": 3,
     "metadata": {},
     "output_type": "execute_result"
    }
   ],
   "source": [
    "# Group data by product name and sum total sales (Amount $) for each product\n",
    "amt_grouped = df.groupby('Product Name')['Amount ($)'].sum().reset_index()\n",
    "\n",
    "# Sort products by total sales in descending order to identify highest-grossing items\n",
    "amt_sorted = amt_grouped.sort_values(by='Amount ($)', ascending=False)\n",
    "\n",
    "# Display the top products by total sales\n",
    "amt_sorted.head()"
   ]
  },
  {
   "cell_type": "markdown",
   "id": "934f6e73-cad6-4abd-b929-ecc71233fe02",
   "metadata": {},
   "source": [
    "<br>\n",
    "\n",
    "This analysis grouped all orders by product name and calculated the total sales amount for each product. The products were then sorted in descending order of revenue, allowing us to quickly identify the highest-earning items in the dataset.\n",
    "\n",
    "Highlighting the top revenue-generating products provides a clear view of which items drove the majority of sales, offering valuable insight for strategic business decisions."
   ]
  },
  {
   "cell_type": "markdown",
   "id": "f99464f4-a92b-4856-9d67-06152bcc1ed6",
   "metadata": {},
   "source": [
    "### Which products sold the highest quantity?"
   ]
  },
  {
   "cell_type": "code",
   "execution_count": 4,
   "id": "e2e943b8-8cef-4f36-9594-6a51d9de9e9d",
   "metadata": {},
   "outputs": [
    {
     "data": {
      "image/png": "[encoded data removed]",
      "text/plain": [
       "<Figure size 1000x500 with 1 Axes>"
      ]
     },
     "metadata": {},
     "output_type": "display_data"
    }
   ],
   "source": [
    "# Group data by product name and sum the quantity sold for each product\n",
    "qty_grouped = df.groupby('Product Name')['Quantity'].sum().reset_index()\n",
    "\n",
    "# Sort products by total quantity sold in descending order\n",
    "qty_sorted = qty_grouped.sort_values(by='Quantity', ascending=False)\n",
    "\n",
    "# Display the top 10 products by quantity sold\n",
    "qty_sorted.head(10)\n",
    "\n",
    "# Set figure size for better readability\n",
    "plt.figure(figsize=(10, 5))\n",
    "\n",
    "# Create a bar chart of top products by quantity sold\n",
    "sns.barplot(x=qty_sorted['Product Name'], y=qty_sorted['Quantity'], palette=sns.color_palette(\"Set2\"))\n",
    "\n",
    "# Add chart title and y-axis label\n",
    "plt.title('Top 10 Selling Products by Quantity')\n",
    "plt.ylabel('Quantity')\n",
    "\n",
    "# Rotate x-axis labels for better readability\n",
    "plt.xticks(rotation=45, ha='right')\n",
    "\n",
    "# Display the plot\n",
    "plt.show()"
   ]
  },
  {
   "cell_type": "markdown",
   "id": "8fdc361b-dd0e-43df-932e-3e69339f866b",
   "metadata": {},
   "source": [
    "<br><br>"
   ]
  },
  {
   "cell_type": "markdown",
   "id": "aca2f1b3-73eb-4828-856c-7199f1417618",
   "metadata": {},
   "source": [
    "This code identifies the top-selling products by quantity. First, it groups the dataset by *Product Name* and sums up the total *Quantity* sold for each product. It then sorts the results in descending order to highlight the best-selling items and selects the top 10 products.\n",
    "\n",
    "Finally, it visualizes these products in a bar chart using Seaborn, with product names on the x-axis and total quantities sold on the y-axis. The chart makes it easy to compare which products had the highest sales volume, helping to spot clear leaders in customer demand."
   ]
  },
  {
   "cell_type": "markdown",
   "id": "fec4af90-810e-4063-89d2-f2b866a01803",
   "metadata": {},
   "source": [
    "## Which product type accounts for the largest share of orders?"
   ]
  },
  {
   "cell_type": "code",
   "execution_count": 5,
   "id": "ecffaccb-e400-4a6c-aad6-940055c88f98",
   "metadata": {},
   "outputs": [
    {
     "name": "stdout",
     "output_type": "stream",
     "text": [
      "Product Type\n",
      "Sneakers    136\n",
      "Hoodie      121\n",
      "Joggers      41\n",
      "Cap          29\n",
      "T-shirt      26\n",
      "dtype: int64\n"
     ]
    },
    {
     "data": {
      "image/png": "[encoded data removed]",
      "text/plain": [
       "<Figure size 800x600 with 1 Axes>"
      ]
     },
     "metadata": {},
     "output_type": "display_data"
    }
   ],
   "source": [
    "# Group the data by product type and count the number of orders for each type\n",
    "prod_types = df.groupby('Product Type').size()\n",
    "\n",
    "# Sort product types by order count in descending order\n",
    "types_sorted = prod_types.sort_values(ascending=False)\n",
    "\n",
    "# Display the sorted product type distribution\n",
    "print(types_sorted)\n",
    "\n",
    "# Set the figure size for better readability\n",
    "plt.figure(figsize=(8,6))\n",
    "\n",
    "# Create a pie chart showing the percentage distribution of product types sold\n",
    "plt.pie(\n",
    "    prod_types,                          # Data for the chart\n",
    "    labels=prod_types.index,             # Product type labels\n",
    "    autopct='%1.1f%%',                    # Display percentages with 1 decimal place\n",
    "    colors=sns.color_palette(\"Set2\")      # Choose a visually appealing color palette\n",
    ")\n",
    "\n",
    "# Add a descriptive title with extra padding for spacing\n",
    "plt.title('Percentage Distribution of Product Types Sold', pad=30)\n",
    "\n",
    "# Ensure the pie chart is drawn as a circle\n",
    "plt.axis('equal')\n",
    "\n",
    "# Display the chart\n",
    "plt.show()"
   ]
  },
  {
   "cell_type": "markdown",
   "id": "4ee16f18-54a4-42d9-abc1-54c965cf1a9d",
   "metadata": {},
   "source": [
    "<br><br>"
   ]
  },
  {
   "cell_type": "markdown",
   "id": "1900f463-1239-4b3e-b993-378ab5a72a77",
   "metadata": {},
   "source": [
    "To understand which product types dominate the market, I first calculated the total number of orders for each product type. The ordered list shows that Sneakers and Hoodies account for the majority of items sold, followed by Joggers, Caps, and T-shirts.\n",
    "\n",
    "To visualize this distribution more clearly, I created a pie chart showing the percentage share of each product type. This allows quick insight into the relative popularity of each category across all orders. From the chart, it’s apparent that Sneakers account for the largest share of orders, highlighting their dominant role in the sneaker and streetwear market."
   ]
  },
  {
   "cell_type": "markdown",
   "id": "a6b551ca-02e2-45eb-b81d-2323d966e5b8",
   "metadata": {},
   "source": [
    "### What was the distribution of payment methods?"
   ]
  },
  {
   "cell_type": "code",
   "execution_count": 6,
   "id": "aeb02127-d2ea-4eb0-84a0-f9fd71eeb734",
   "metadata": {},
   "outputs": [
    {
     "name": "stdout",
     "output_type": "stream",
     "text": [
      "Payment Mode\n",
      "Cash on Delivery    102\n",
      "Card                 89\n",
      "Wallet               89\n",
      "UPI                  73\n",
      "dtype: int64\n"
     ]
    },
    {
     "data": {
      "image/png": "[encoded data removed]",
      "text/plain": [
       "<Figure size 800x600 with 1 Axes>"
      ]
     },
     "metadata": {},
     "output_type": "display_data"
    }
   ],
   "source": [
    "# Count the number of transactions for each payment method\n",
    "payment = df.groupby('Payment Mode').size()\n",
    "\n",
    "# Sort payment methods in descending order of transaction count\n",
    "payment_sorted = payment.sort_values(ascending=False)\n",
    "\n",
    "# Display the sorted counts to inspect which payment methods are most popular\n",
    "print(payment_sorted)\n",
    "\n",
    "# Set figure size for better readability\n",
    "plt.figure(figsize=(8, 6))\n",
    "\n",
    "# Create a pie chart to visualize the proportion of each payment method\n",
    "plt.pie(payment, labels=payment.index, autopct='%1.1f%%',colors=sns.color_palette(\"Set2\"))\n",
    "\n",
    "# Add title and ensure pie chart is circular\n",
    "plt.title('Distribution of Payment Method')\n",
    "plt.axis('equal')\n",
    "\n",
    "# Display the pie chart\n",
    "plt.show()"
   ]
  },
  {
   "cell_type": "markdown",
   "id": "3edb853e-0016-4f76-9bfc-dd9c29eb2886",
   "metadata": {},
   "source": [
    "<br><br>"
   ]
  },
  {
   "cell_type": "markdown",
   "id": "4cb5222b-809c-416e-ad90-a81c918069e7",
   "metadata": {},
   "source": [
    "This code analyzes the distribution of payment methods used in the dataset. It first counts the number of transactions for each *Payment Mode* and sorts them in descending order.\n",
    "\n",
    "The results are then visualized in a pie chart, where each slice represents a payment method and its proportion of total transactions. This visualization makes it easy to see which payment methods are most commonly used by customers, helping identify preferences and trends in purchasing behavior."
   ]
  },
  {
   "cell_type": "markdown",
   "id": "4144db29-35b8-4c17-9a70-f82fae3ebc31",
   "metadata": {},
   "source": [
    "### What were the monthly sales trends?"
   ]
  },
  {
   "cell_type": "code",
   "execution_count": 7,
   "id": "aa326f18-ae2d-4534-854d-9f35e375cb75",
   "metadata": {},
   "outputs": [
    {
     "data": {
      "image/png": "[encoded data removed]",
      "text/plain": [
       "<Figure size 1000x500 with 1 Axes>"
      ]
     },
     "metadata": {},
     "output_type": "display_data"
    }
   ],
   "source": [
    "# Convert 'Date' column to datetime format for time-based analysis\n",
    "df['Date'] = pd.to_datetime(df['Date'])\n",
    "\n",
    "# Extract year-month period and month name for aggregation and labeling\n",
    "df['Year_Month'] = df['Date'].dt.to_period('M')\n",
    "df['Month_Name'] = df['Date'].dt.strftime('%b')\n",
    "\n",
    "# Group by year-month and sum total sales for each month\n",
    "monthly_sales = df.groupby('Year_Month')['Amount ($)'].sum().reset_index()\n",
    "\n",
    "# Add month names to the aggregated dataframe for plotting\n",
    "monthly_sales['Month_Name'] = monthly_sales['Year_Month'].dt.strftime('%b')\n",
    "\n",
    "# Set figure size for better readability\n",
    "plt.figure(figsize=(10, 5))\n",
    "\n",
    "# Plot total sales by month as a line chart with markers\n",
    "plt.plot(monthly_sales['Month_Name'], monthly_sales['Amount ($)'], marker='o')\n",
    "\n",
    "# Add y-axis label and chart title\n",
    "plt.ylabel('Total Sales ($)')\n",
    "plt.title('Total Sales by Month (2022)')\n",
    "\n",
    "# Rotate x-axis labels for readability and add grid lines\n",
    "plt.xticks(rotation=45, ha='right')\n",
    "plt.grid(True)\n",
    "\n",
    "# Display the plot\n",
    "plt.show()"
   ]
  },
  {
   "cell_type": "markdown",
   "id": "e3c5ce4a-e041-41ee-8014-697a818bdc1c",
   "metadata": {},
   "source": [
    "<br><br>"
   ]
  },
  {
   "cell_type": "markdown",
   "id": "e618b7f5-1f42-456b-a2d4-6282230b2345",
   "metadata": {},
   "source": [
    "This code examines how total sales varied over time. First, it adds and then converts the *Date* column to a datetime format and extracts both the year-month period and month name for each transaction.\n",
    "    \n",
    "Next, it groups the data by month and sums the *Amount ($)* to calculate total sales for each month.\n",
    "\n",
    "Finally, the results are visualized in a line chart with month names on the x-axis and total sales on the y-axis. The chart highlights trends and fluctuations in monthly sales throughout 2022, making it easy to identify peak sales periods and seasonal patterns. In this case, we are able to see clear peak sales in March and July. "
   ]
  },
  {
   "cell_type": "markdown",
   "id": "1ff01dcb-e595-4e4c-92dc-e35909098f9a",
   "metadata": {},
   "source": [
    "### How do sales differ by country?"
   ]
  },
  {
   "cell_type": "code",
   "execution_count": 59,
   "id": "d79ed1b5-3a3c-4297-9abc-41eb7c10d279",
   "metadata": {},
   "outputs": [
    {
     "data": {
      "image/png": "[encoded data removed]",
      "text/plain": [
       "<Figure size 1000x500 with 1 Axes>"
      ]
     },
     "metadata": {},
     "output_type": "display_data"
    }
   ],
   "source": [
    "# Group data by country and sum total sales for each country\n",
    "country_sales = df.groupby('Country')['Amount ($)'].sum().reset_index()\n",
    "\n",
    "# Sort countries by total sales in descending order\n",
    "country_sorted = country_sales.sort_values(by='Amount ($)', ascending=False)\n",
    "\n",
    "# Set figure size for better readability\n",
    "plt.figure(figsize=(10, 5))\n",
    "\n",
    "# Create a horizontal bar chart showing sales by country\n",
    "sns.barplot(x=country_sorted['Amount ($)'], y=country_sorted['Country'], palette=sns.color_palette(\"Set2\"))\n",
    "\n",
    "# Add chart title and axis label\n",
    "plt.title('Sales by Country')\n",
    "plt.xlabel('Sales ($)')\n",
    "\n",
    "# Rotate x-axis labels for readability and set x-axis limits to focus on key range\n",
    "plt.xticks(rotation=45, ha='right')\n",
    "plt.xlim(20000, 32000) \n",
    "\n",
    "# Display the plot\n",
    "plt.show()"
   ]
  },
  {
   "cell_type": "markdown",
   "id": "6371e3a9-b786-45e7-a89d-61abd659a8a1",
   "metadata": {},
   "source": [
    "<br><br>"
   ]
  },
  {
   "cell_type": "markdown",
   "id": "c6ebca1e-5b2e-4a7d-9933-3651d4777fff",
   "metadata": {},
   "source": [
    "This code analyzes total sales by country. First, it groups the dataset by *Country* and sums the *Amount ($)* to calculate total revenue per country, then sorts the results in descending order.\n",
    "\n",
    "The horizontal bar chart displays these countries along the y-axis with their corresponding sales amounts on the x-axis. This makes it easy to compare which countries contributed most to revenue."
   ]
  },
  {
   "cell_type": "code",
   "execution_count": 9,
   "id": "fbf0083c-7c7a-4287-a7d2-8c0ff9edd77c",
   "metadata": {},
   "outputs": [
    {
     "data": {
      "application/vnd.plotly.v1+json": {
       "config": {
        "plotlyServerURL": "https://plot.ly"
       },
       "data": [
        {
         "coloraxis": "coloraxis",
         "geo": "geo",
         "hovertemplate": "Country=%{location}<br>Amount ($)=%{z}<extra></extra>",
         "locationmode": "country names",
         "locations": [
          "Australia",
          "Canada",
          "Germany",
          "India",
          "Japan",
          "UK",
          "USA"
         ],
         "name": "",
         "type": "choropleth",
         "z": {
          "bdata": "exSuR4GH10CPwvUozCDeQFyPwvW4H91Aw/UoXC9s1EBcj8L12NjeQAAAAADQCt1AKVyPwuV72UA=",
          "dtype": "f8"
         }
        }
       ],
       "layout": {
        "coloraxis": {
         "colorbar": {
          "title": {
           "text": "Amount ($)"
          }
         },
         "colorscale": [
          [
           0,
           "rgb(255,255,217)"
          ],
          [
           0.125,
           "rgb(237,248,177)"
          ],
          [
           0.25,
           "rgb(199,233,180)"
          ],
          [
           0.375,
           "rgb(127,205,187)"
          ],
          [
           0.5,
           "rgb(65,182,196)"
          ],
          [
           0.625,
           "rgb(29,145,192)"
          ],
          [
           0.75,
           "rgb(34,94,168)"
          ],
          [
           0.875,
           "rgb(37,52,148)"
          ],
          [
           1,
           "rgb(8,29,88)"
          ]
         ]
        },
        "geo": {
         "center": {},
         "domain": {
          "x": [
           0,
           1
          ],
          "y": [
           0,
           1
          ]
         }
        },
        "height": 700,
        "legend": {
         "tracegroupgap": 0
        },
        "template": {
         "data": {
          "bar": [
           {
            "error_x": {
             "color": "#2a3f5f"
            },
            "error_y": {
             "color": "#2a3f5f"
            },
            "marker": {
             "line": {
              "color": "#E5ECF6",
              "width": 0.5
             },
             "pattern": {
              "fillmode": "overlay",
              "size": 10,
              "solidity": 0.2
             }
            },
            "type": "bar"
           }
          ],
          "barpolar": [
           {
            "marker": {
             "line": {
              "color": "#E5ECF6",
              "width": 0.5
             },
             "pattern": {
              "fillmode": "overlay",
              "size": 10,
              "solidity": 0.2
             }
            },
            "type": "barpolar"
           }
          ],
          "carpet": [
           {
            "aaxis": {
             "endlinecolor": "#2a3f5f",
             "gridcolor": "white",
             "linecolor": "white",
             "minorgridcolor": "white",
             "startlinecolor": "#2a3f5f"
            },
            "baxis": {
             "endlinecolor": "#2a3f5f",
             "gridcolor": "white",
             "linecolor": "white",
             "minorgridcolor": "white",
             "startlinecolor": "#2a3f5f"
            },
            "type": "carpet"
           }
          ],
          "choropleth": [
           {
            "colorbar": {
             "outlinewidth": 0,
             "ticks": ""
            },
            "type": "choropleth"
           }
          ],
          "contour": [
           {
            "colorbar": {
             "outlinewidth": 0,
             "ticks": ""
            },
            "colorscale": [
             [
              0,
              "#0d0887"
             ],
             [
              0.1111111111111111,
              "#46039f"
             ],
             [
              0.2222222222222222,
              "#7201a8"
             ],
             [
              0.3333333333333333,
              "#9c179e"
             ],
             [
              0.4444444444444444,
              "#bd3786"
             ],
             [
              0.5555555555555556,
              "#d8576b"
             ],
             [
              0.6666666666666666,
              "#ed7953"
             ],
             [
              0.7777777777777778,
              "#fb9f3a"
             ],
             [
              0.8888888888888888,
              "#fdca26"
             ],
             [
              1,
              "#f0f921"
             ]
            ],
            "type": "contour"
           }
          ],
          "contourcarpet": [
           {
            "colorbar": {
             "outlinewidth": 0,
             "ticks": ""
            },
            "type": "contourcarpet"
           }
          ],
          "heatmap": [
           {
            "colorbar": {
             "outlinewidth": 0,
             "ticks": ""
            },
            "colorscale": [
             [
              0,
              "#0d0887"
             ],
             [
              0.1111111111111111,
              "#46039f"
             ],
             [
              0.2222222222222222,
              "#7201a8"
             ],
             [
              0.3333333333333333,
              "#9c179e"
             ],
             [
              0.4444444444444444,
              "#bd3786"
             ],
             [
              0.5555555555555556,
              "#d8576b"
             ],
             [
              0.6666666666666666,
              "#ed7953"
             ],
             [
              0.7777777777777778,
              "#fb9f3a"
             ],
             [
              0.8888888888888888,
              "#fdca26"
             ],
             [
              1,
              "#f0f921"
             ]
            ],
            "type": "heatmap"
           }
          ],
          "histogram": [
           {
            "marker": {
             "pattern": {
              "fillmode": "overlay",
              "size": 10,
              "solidity": 0.2
             }
            },
            "type": "histogram"
           }
          ],
          "histogram2d": [
           {
            "colorbar": {
             "outlinewidth": 0,
             "ticks": ""
            },
            "colorscale": [
             [
              0,
              "#0d0887"
             ],
             [
              0.1111111111111111,
              "#46039f"
             ],
             [
              0.2222222222222222,
              "#7201a8"
             ],
             [
              0.3333333333333333,
              "#9c179e"
             ],
             [
              0.4444444444444444,
              "#bd3786"
             ],
             [
              0.5555555555555556,
              "#d8576b"
             ],
             [
              0.6666666666666666,
              "#ed7953"
             ],
             [
              0.7777777777777778,
              "#fb9f3a"
             ],
             [
              0.8888888888888888,
              "#fdca26"
             ],
             [
              1,
              "#f0f921"
             ]
            ],
            "type": "histogram2d"
           }
          ],
          "histogram2dcontour": [
           {
            "colorbar": {
             "outlinewidth": 0,
             "ticks": ""
            },
            "colorscale": [
             [
              0,
              "#0d0887"
             ],
             [
              0.1111111111111111,
              "#46039f"
             ],
             [
              0.2222222222222222,
              "#7201a8"
             ],
             [
              0.3333333333333333,
              "#9c179e"
             ],
             [
              0.4444444444444444,
              "#bd3786"
             ],
             [
              0.5555555555555556,
              "#d8576b"
             ],
             [
              0.6666666666666666,
              "#ed7953"
             ],
             [
              0.7777777777777778,
              "#fb9f3a"
             ],
             [
              0.8888888888888888,
              "#fdca26"
             ],
             [
              1,
              "#f0f921"
             ]
            ],
            "type": "histogram2dcontour"
           }
          ],
          "mesh3d": [
           {
            "colorbar": {
             "outlinewidth": 0,
             "ticks": ""
            },
            "type": "mesh3d"
           }
          ],
          "parcoords": [
           {
            "line": {
             "colorbar": {
              "outlinewidth": 0,
              "ticks": ""
             }
            },
            "type": "parcoords"
           }
          ],
          "pie": [
           {
            "automargin": true,
            "type": "pie"
           }
          ],
          "scatter": [
           {
            "fillpattern": {
             "fillmode": "overlay",
             "size": 10,
             "solidity": 0.2
            },
            "type": "scatter"
           }
          ],
          "scatter3d": [
           {
            "line": {
             "colorbar": {
              "outlinewidth": 0,
              "ticks": ""
             }
            },
            "marker": {
             "colorbar": {
              "outlinewidth": 0,
              "ticks": ""
             }
            },
            "type": "scatter3d"
           }
          ],
          "scattercarpet": [
           {
            "marker": {
             "colorbar": {
              "outlinewidth": 0,
              "ticks": ""
             }
            },
            "type": "scattercarpet"
           }
          ],
          "scattergeo": [
           {
            "marker": {
             "colorbar": {
              "outlinewidth": 0,
              "ticks": ""
             }
            },
            "type": "scattergeo"
           }
          ],
          "scattergl": [
           {
            "marker": {
             "colorbar": {
              "outlinewidth": 0,
              "ticks": ""
             }
            },
            "type": "scattergl"
           }
          ],
          "scattermap": [
           {
            "marker": {
             "colorbar": {
              "outlinewidth": 0,
              "ticks": ""
             }
            },
            "type": "scattermap"
           }
          ],
          "scattermapbox": [
           {
            "marker": {
             "colorbar": {
              "outlinewidth": 0,
              "ticks": ""
             }
            },
            "type": "scattermapbox"
           }
          ],
          "scatterpolar": [
           {
            "marker": {
             "colorbar": {
              "outlinewidth": 0,
              "ticks": ""
             }
            },
            "type": "scatterpolar"
           }
          ],
          "scatterpolargl": [
           {
            "marker": {
             "colorbar": {
              "outlinewidth": 0,
              "ticks": ""
             }
            },
            "type": "scatterpolargl"
           }
          ],
          "scatterternary": [
           {
            "marker": {
             "colorbar": {
              "outlinewidth": 0,
              "ticks": ""
             }
            },
            "type": "scatterternary"
           }
          ],
          "surface": [
           {
            "colorbar": {
             "outlinewidth": 0,
             "ticks": ""
            },
            "colorscale": [
             [
              0,
              "#0d0887"
             ],
             [
              0.1111111111111111,
              "#46039f"
             ],
             [
              0.2222222222222222,
              "#7201a8"
             ],
             [
              0.3333333333333333,
              "#9c179e"
             ],
             [
              0.4444444444444444,
              "#bd3786"
             ],
             [
              0.5555555555555556,
              "#d8576b"
             ],
             [
              0.6666666666666666,
              "#ed7953"
             ],
             [
              0.7777777777777778,
              "#fb9f3a"
             ],
             [
              0.8888888888888888,
              "#fdca26"
             ],
             [
              1,
              "#f0f921"
             ]
            ],
            "type": "surface"
           }
          ],
          "table": [
           {
            "cells": {
             "fill": {
              "color": "#EBF0F8"
             },
             "line": {
              "color": "white"
             }
            },
            "header": {
             "fill": {
              "color": "#C8D4E3"
             },
             "line": {
              "color": "white"
             }
            },
            "type": "table"
           }
          ]
         },
         "layout": {
          "annotationdefaults": {
           "arrowcolor": "#2a3f5f",
           "arrowhead": 0,
           "arrowwidth": 1
          },
          "autotypenumbers": "strict",
          "coloraxis": {
           "colorbar": {
            "outlinewidth": 0,
            "ticks": ""
           }
          },
          "colorscale": {
           "diverging": [
            [
             0,
             "#8e0152"
            ],
            [
             0.1,
             "#c51b7d"
            ],
            [
             0.2,
             "#de77ae"
            ],
            [
             0.3,
             "#f1b6da"
            ],
            [
             0.4,
             "#fde0ef"
            ],
            [
             0.5,
             "#f7f7f7"
            ],
            [
             0.6,
             "#e6f5d0"
            ],
            [
             0.7,
             "#b8e186"
            ],
            [
             0.8,
             "#7fbc41"
            ],
            [
             0.9,
             "#4d9221"
            ],
            [
             1,
             "#276419"
            ]
           ],
           "sequential": [
            [
             0,
             "#0d0887"
            ],
            [
             0.1111111111111111,
             "#46039f"
            ],
            [
             0.2222222222222222,
             "#7201a8"
            ],
            [
             0.3333333333333333,
             "#9c179e"
            ],
            [
             0.4444444444444444,
             "#bd3786"
            ],
            [
             0.5555555555555556,
             "#d8576b"
            ],
            [
             0.6666666666666666,
             "#ed7953"
            ],
            [
             0.7777777777777778,
             "#fb9f3a"
            ],
            [
             0.8888888888888888,
             "#fdca26"
            ],
            [
             1,
             "#f0f921"
            ]
           ],
           "sequentialminus": [
            [
             0,
             "#0d0887"
            ],
            [
             0.1111111111111111,
             "#46039f"
            ],
            [
             0.2222222222222222,
             "#7201a8"
            ],
            [
             0.3333333333333333,
             "#9c179e"
            ],
            [
             0.4444444444444444,
             "#bd3786"
            ],
            [
             0.5555555555555556,
             "#d8576b"
            ],
            [
             0.6666666666666666,
             "#ed7953"
            ],
            [
             0.7777777777777778,
             "#fb9f3a"
            ],
            [
             0.8888888888888888,
             "#fdca26"
            ],
            [
             1,
             "#f0f921"
            ]
           ]
          },
          "colorway": [
           "#636efa",
           "#EF553B",
           "#00cc96",
           "#ab63fa",
           "#FFA15A",
           "#19d3f3",
           "#FF6692",
           "#B6E880",
           "#FF97FF",
           "#FECB52"
          ],
          "font": {
           "color": "#2a3f5f"
          },
          "geo": {
           "bgcolor": "white",
           "lakecolor": "white",
           "landcolor": "#E5ECF6",
           "showlakes": true,
           "showland": true,
           "subunitcolor": "white"
          },
          "hoverlabel": {
           "align": "left"
          },
          "hovermode": "closest",
          "mapbox": {
           "style": "light"
          },
          "paper_bgcolor": "white",
          "plot_bgcolor": "#E5ECF6",
          "polar": {
           "angularaxis": {
            "gridcolor": "white",
            "linecolor": "white",
            "ticks": ""
           },
           "bgcolor": "#E5ECF6",
           "radialaxis": {
            "gridcolor": "white",
            "linecolor": "white",
            "ticks": ""
           }
          },
          "scene": {
           "xaxis": {
            "backgroundcolor": "#E5ECF6",
            "gridcolor": "white",
            "gridwidth": 2,
            "linecolor": "white",
            "showbackground": true,
            "ticks": "",
            "zerolinecolor": "white"
           },
           "yaxis": {
            "backgroundcolor": "#E5ECF6",
            "gridcolor": "white",
            "gridwidth": 2,
            "linecolor": "white",
            "showbackground": true,
            "ticks": "",
            "zerolinecolor": "white"
           },
           "zaxis": {
            "backgroundcolor": "#E5ECF6",
            "gridcolor": "white",
            "gridwidth": 2,
            "linecolor": "white",
            "showbackground": true,
            "ticks": "",
            "zerolinecolor": "white"
           }
          },
          "shapedefaults": {
           "line": {
            "color": "#2a3f5f"
           }
          },
          "ternary": {
           "aaxis": {
            "gridcolor": "white",
            "linecolor": "white",
            "ticks": ""
           },
           "baxis": {
            "gridcolor": "white",
            "linecolor": "white",
            "ticks": ""
           },
           "bgcolor": "#E5ECF6",
           "caxis": {
            "gridcolor": "white",
            "linecolor": "white",
            "ticks": ""
           }
          },
          "title": {
           "x": 0.05
          },
          "xaxis": {
           "automargin": true,
           "gridcolor": "white",
           "linecolor": "white",
           "ticks": "",
           "title": {
            "standoff": 15
           },
           "zerolinecolor": "white",
           "zerolinewidth": 2
          },
          "yaxis": {
           "automargin": true,
           "gridcolor": "white",
           "linecolor": "white",
           "ticks": "",
           "title": {
            "standoff": 15
           },
           "zerolinecolor": "white",
           "zerolinewidth": 2
          }
         }
        },
        "title": {
         "text": "Sales by Country"
        },
        "width": 1000
       }
      }
     },
     "metadata": {},
     "output_type": "display_data"
    }
   ],
   "source": [
    "# Create an interactive choropleth map to visualize total sales by country\n",
    "fig = px.choropleth(\n",
    "    country_sales,                  # Dataframe containing country sales\n",
    "    locations='Country',            # Column with country names\n",
    "    locationmode='country names',   # Interpret locations as country names\n",
    "    color='Amount ($)',             # Use total sales to determine color intensity\n",
    "    color_continuous_scale='YlGnBu',  # Orange-Red color scale for sales values\n",
    "    title='Sales by Country',       # Chart title\n",
    "    width=1000,                     # Set chart width\n",
    "    height=700                      # Set chart height\n",
    ")\n",
    "\n",
    "# Display the interactive choropleth map\n",
    "fig.show()"
   ]
  },
  {
   "cell_type": "markdown",
   "id": "c469cb17-b434-4e72-964f-295db31dc267",
   "metadata": {},
   "source": [
    "Additionally, a choropleth map visualizes total sales geographically, using color intensity to represent sales volume for each country. The map provides a clear, global view of sales distribution, highlighting high-performing regions and enabling quick identification of international trends."
   ]
  },
  {
   "cell_type": "markdown",
   "id": "8310fce6-5f7e-4c25-9f5a-68a9a0f7df5b",
   "metadata": {},
   "source": [
    "## 4. Key Insights and Recommendations"
   ]
  },
  {
   "cell_type": "markdown",
   "id": "67da6fa2-2b17-4f12-9ea0-c30bf97433e2",
   "metadata": {},
   "source": [
    "The analysis highlights the products, regions, and payment methods driving revenue in the global sneaker and streetwear market. Sneakers and hoodies account for the majority of orders, while cash emerges as the most preferred payment method. Monthly sales trends show clear seasonal fluctuations, and Japan, Canada, Germany, and the UK being the top-selling countries.\n",
    "\n",
    "**Recommendations:** Prioritize inventory and marketing for top-selling products, streamline checkout for cash transactions, and focus promotional efforts on these high-performing countries to maximize revenue and operational efficiency."
   ]
  },
  {
   "cell_type": "markdown",
   "id": "f02e4d8f-9f70-4b0b-9ec5-07d8c80ea958",
   "metadata": {},
   "source": [
    "## 5. Predictive Insight: Next Month's Sales"
   ]
  },
  {
   "cell_type": "code",
   "execution_count": 10,
   "id": "7c3beb50-0ea6-4fbe-a16e-e098abf8fac0",
   "metadata": {
    "scrolled": true
   },
   "outputs": [
    {
     "data": {
      "image/png": "[encoded data removed]",
      "text/plain": [
       "<Figure size 1000x500 with 1 Axes>"
      ]
     },
     "metadata": {},
     "output_type": "display_data"
    },
    {
     "name": "stdout",
     "output_type": "stream",
     "text": [
      "Estimated total sales for next month (Sep 2022): $27,636.79\n"
     ]
    }
   ],
   "source": [
    "from sklearn.linear_model import LinearRegression\n",
    "import numpy as np\n",
    "\n",
    "# Add numeric month column for regression\n",
    "monthly_sales['Month_Num'] = np.arange(1, len(monthly_sales) + 1)  # 1..N\n",
    "\n",
    "# Define predictor (feature) and target variable\n",
    "X = monthly_sales[['Month_Num']]          # Feature: month number (must be 2D for sklearn)\n",
    "y = monthly_sales['Amount ($)']           # Target: monthly total sales\n",
    "\n",
    "# Initialize and fit a simple linear regression to capture sales trend\n",
    "model = LinearRegression()\n",
    "model.fit(X, y)\n",
    "\n",
    "# Predict sales for the next month using the trained model\n",
    "next_month_num = monthly_sales['Month_Num'].max() + 1\n",
    "next_month_sales = model.predict(np.array([[next_month_num]]))[0]\n",
    "\n",
    "# Build a new row representing the forecasted month\n",
    "next_period = monthly_sales['Year_Month'].max() + 1          # Next period (e.g., 2022-09)\n",
    "next_month_name = next_period.to_timestamp().strftime('%b')  # Convert period to short month name (e.g., 'Sep')\n",
    "\n",
    "next_row = pd.DataFrame({\n",
    "    'Year_Month': [next_period],\n",
    "    'Month_Name': [next_month_name],\n",
    "    'Amount ($)': [next_month_sales],\n",
    "    'Month_Num': [next_month_num]\n",
    "})\n",
    "\n",
    "# Append the forecast row to monthly_sales\n",
    "monthly_sales = pd.concat([monthly_sales, next_row], ignore_index=True)\n",
    "\n",
    "plt.figure(figsize=(10, 5))\n",
    "\n",
    "# Plot historical + forecast line using Month_Num on x axis\n",
    "plt.plot(monthly_sales['Month_Num'], monthly_sales['Amount ($)'], marker='o', label='Actual + Forecast')\n",
    "\n",
    "# Draw vertical line at the boundary: last actual month (second-to-last row after append)\n",
    "last_actual_x = monthly_sales['Month_Num'].iloc[-2]   # numeric coordinate of last real month\n",
    "plt.axvline(x=last_actual_x + 0.5, color='gray', linestyle='--', label='Forecast Starts')  \n",
    "# +0.5 positions the line between the last actual and the forecast point\n",
    "\n",
    "# Highlight the forecast point\n",
    "plt.scatter(monthly_sales['Month_Num'].iloc[-1], monthly_sales['Amount ($)'].iloc[-1],\n",
    "            color='red', zorder=5, label='Forecast')\n",
    "\n",
    "# Replace numeric ticks with month name labels for readability\n",
    "plt.xticks(monthly_sales['Month_Num'], monthly_sales['Month_Name'], rotation=45, ha='right')\n",
    "\n",
    "# Add axis labels, title, legend, and grid\n",
    "plt.ylabel('Total Sales ($)')\n",
    "plt.title('Monthly Sales with Next-Month Forecast')\n",
    "plt.legend()\n",
    "plt.grid(True)\n",
    "plt.tight_layout()\n",
    "plt.show()\n",
    "\n",
    "# Print the numeric forecast\n",
    "print(f\"Estimated total sales for next month ({next_month_name} 2022): ${next_month_sales:,.2f}\")"
   ]
  },
  {
   "cell_type": "markdown",
   "id": "da94e85a-6f1c-4fd0-8bf1-645bd42b09c9",
   "metadata": {},
   "source": [
    "To explore potential future trends, I applied a simple linear regression model to the historical monthly sales data. First, I converted each month into a numeric value (*Month_Num*) so the regression algorithm could analyze the relationship between time and sales. The model was trained on all available months of sales to capture the overall trend.\n",
    "\n",
    "Using this model, I forecasted sales for the next month by extrapolating the trend forward by one step. The final chart visualizes both historical sales and the predicted value: the vertical dashed line indicates where the forecast begins, and the red marker highlights the estimated next-month sales (September: $27,636.79)."
   ]
  }
 ],
 "metadata": {
  "kernelspec": {
   "display_name": "Python 3 (ipykernel)",
   "language": "python",
   "name": "python3"
  },
  "language_info": {
   "codemirror_mode": {
    "name": "ipython",
    "version": 3
   },
   "file_extension": ".py",
   "mimetype": "text/x-python",
   "name": "python",
   "nbconvert_exporter": "python",
   "pygments_lexer": "ipython3",
   "version": "3.12.10"
  }
 },
 "nbformat": 4,
 "nbformat_minor": 5
}
